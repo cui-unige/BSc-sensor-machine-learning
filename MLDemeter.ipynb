{
 "cells": [
  {
   "cell_type": "markdown",
   "metadata": {},
   "source": [
    "# First implementation of Machine Learning Algorithm\n",
    "\n",
    "In this file, we are going to import data from a file .csv that we take from chornograf.\n",
    "We have to parse him and put into an array.\n",
    "Finally we will insert some machin Learning algorithm with the librairy sklearn.\n",
    "\n",
    "To do this, we will use some librairy as pandas, matplotlib, numpy, sklearn and some others.\n"
   ]
  },
  {
   "cell_type": "code",
   "execution_count": 1,
   "metadata": {},
   "outputs": [],
   "source": [
    "from sklearn import linear_model\n",
    "import csv\n",
    "import math\n",
    "import matplotlib.pyplot as plt\n",
    "import numpy as np\n",
    "import pandas as pd"
   ]
  },
  {
   "cell_type": "markdown",
   "metadata": {},
   "source": [
    "Dans le fichier DataAll.csv\n",
    "\n",
    "Toutes les données de puis 1300h à partir 7 mars au 30 avril\n",
    "\n",
    "SELECT mean(\"temperature\") AS \"mean_temperature\", mean(\"moisture-percent\") AS \"mean_moisture-percent\" \n",
    "\n",
    "FROM \"demeter\".\"autogen\".\"chirp-left\" \n",
    "\n",
    "WHERE time > now() - 1300h \n",
    "\n",
    "GROUP BY time(30m) FILL(null)"
   ]
  },
  {
   "cell_type": "markdown",
   "metadata": {},
   "source": [
    "# Import des données \n",
    "\n",
    "Leccture d'un fichier csv en un fichier dataframe.\n",
    "\n",
    "Création d'une base dataframe avec comme colonne le temps, l'humidité, la tempérture, l'humidité + 1, la température + 1.\n",
    "\n",
    "Il faut régler le problème tu dernier temps."
   ]
  },
  {
   "cell_type": "code",
   "execution_count": 2,
   "metadata": {},
   "outputs": [],
   "source": [
    "from traitement import Traitement\n",
    "\n",
    "\n",
    "df = pd.read_csv('DataAll.csv')\n",
    "\n",
    "t= Traitement()\n",
    "\n",
    "#Création des deux autres colonnes\n",
    "df = t.ajoutData(df)\n"
   ]
  },
  {
   "cell_type": "markdown",
   "metadata": {},
   "source": [
    "## Ajout de l'arrosage\n",
    "\n",
    "L'arrosage est ajouté au temps 10h30."
   ]
  },
  {
   "cell_type": "code",
   "execution_count": 3,
   "metadata": {},
   "outputs": [],
   "source": [
    "import datetime\n",
    "\n",
    "df = t.arrosageHist(df,1)\n"
   ]
  },
  {
   "cell_type": "markdown",
   "metadata": {},
   "source": [
    "# Delete NaN Value"
   ]
  },
  {
   "cell_type": "code",
   "execution_count": 4,
   "metadata": {},
   "outputs": [
    {
     "name": "stdout",
     "output_type": "stream",
     "text": [
      "1237\n",
      "2245\n",
      "2245\n"
     ]
    }
   ],
   "source": [
    "i = 37\n",
    "\n",
    "df = t.eliminateNaNValue(df,i)\n",
    "#Delete the data that are not inside a loop of one day\n",
    "df.drop(df.index[range(0,i)],axis = 0,inplace = True)\n",
    "nligne = df.shape[0]\n"
   ]
  },
  {
   "cell_type": "code",
   "execution_count": 5,
   "metadata": {},
   "outputs": [
    {
     "name": "stdout",
     "output_type": "stream",
     "text": [
      "date                     0\n",
      "mean_moisture-percent    0\n",
      "mean_temperature         0\n",
      "moistureAdd              0\n",
      "temperatureAdd           0\n",
      "Arrosage                 0\n",
      "TAfterArrosage           0\n",
      "ArrosageHist             0\n",
      "dtype: int64\n"
     ]
    }
   ],
   "source": [
    "nligne = df.shape[0]\n",
    "nColumn = df.shape[1]\n",
    "print(df.isnull().sum())\n",
    "for i in range(nligne):\n",
    "    if df.iloc[i,:].isnull().values.any():\n",
    "        print(df.index[i])\n",
    "        "
   ]
  },
  {
   "cell_type": "markdown",
   "metadata": {},
   "source": [
    "# Analyse de la dataFrame\n",
    "\n",
    "\n",
    "## Linear Regression Multiple Variables sans l'information sur le temps sans arrosage\n",
    "\n"
   ]
  },
  {
   "cell_type": "code",
   "execution_count": 6,
   "metadata": {},
   "outputs": [
    {
     "data": {
      "text/plain": [
       "LinearRegression(copy_X=True, fit_intercept=True, n_jobs=None,\n",
       "         normalize=False)"
      ]
     },
     "execution_count": 6,
     "metadata": {},
     "output_type": "execute_result"
    }
   ],
   "source": [
    "reg = linear_model.LinearRegression()\n",
    "reg.fit(df[['mean_moisture-percent','mean_temperature','Arrosage']],df.moistureAdd)\n"
   ]
  },
  {
   "cell_type": "code",
   "execution_count": 7,
   "metadata": {},
   "outputs": [
    {
     "data": {
      "text/plain": [
       "array([-0.02113182, -0.01721875,  0.30066749])"
      ]
     },
     "execution_count": 7,
     "metadata": {},
     "output_type": "execute_result"
    }
   ],
   "source": [
    "reg.coef_"
   ]
  },
  {
   "cell_type": "code",
   "execution_count": 8,
   "metadata": {},
   "outputs": [
    {
     "data": {
      "text/plain": [
       "0.74272914889584452"
      ]
     },
     "execution_count": 8,
     "metadata": {},
     "output_type": "execute_result"
    }
   ],
   "source": [
    "reg.intercept_"
   ]
  },
  {
   "cell_type": "code",
   "execution_count": 9,
   "metadata": {},
   "outputs": [
    {
     "data": {
      "text/plain": [
       "2.6638488606147197"
      ]
     },
     "execution_count": 9,
     "metadata": {},
     "output_type": "execute_result"
    }
   ],
   "source": [
    "reg.predict([[31,25,10]])[0]"
   ]
  },
  {
   "cell_type": "markdown",
   "metadata": {},
   "source": [
    "## Linear Regression Multiple Variables AVEC l'information sur le temps sans arrosage"
   ]
  },
  {
   "cell_type": "code",
   "execution_count": 10,
   "metadata": {},
   "outputs": [
    {
     "data": {
      "text/plain": [
       "LinearRegression(copy_X=True, fit_intercept=True, n_jobs=None,\n",
       "         normalize=False)"
      ]
     },
     "execution_count": 10,
     "metadata": {},
     "output_type": "execute_result"
    }
   ],
   "source": [
    "reg2 = linear_model.LinearRegression()\n",
    "reg2.fit(df[['mean_moisture-percent','mean_temperature','Arrosage','TAfterArrosage']],df.moistureAdd)"
   ]
  },
  {
   "cell_type": "code",
   "execution_count": 11,
   "metadata": {},
   "outputs": [
    {
     "data": {
      "text/plain": [
       "array([-0.01434274,  0.00393448,  0.31060324,  0.00032518])"
      ]
     },
     "execution_count": 11,
     "metadata": {},
     "output_type": "execute_result"
    }
   ],
   "source": [
    "reg2.coef_"
   ]
  },
  {
   "cell_type": "code",
   "execution_count": 12,
   "metadata": {},
   "outputs": [
    {
     "data": {
      "text/plain": [
       "-0.18349768231499866"
      ]
     },
     "execution_count": 12,
     "metadata": {},
     "output_type": "execute_result"
    }
   ],
   "source": [
    "reg2.intercept_"
   ]
  },
  {
   "cell_type": "code",
   "execution_count": 13,
   "metadata": {},
   "outputs": [
    {
     "data": {
      "text/plain": [
       "2.5762718176072337"
      ]
     },
     "execution_count": 13,
     "metadata": {},
     "output_type": "execute_result"
    }
   ],
   "source": [
    "reg2.predict([[31,25,10,0]])[0]"
   ]
  },
  {
   "cell_type": "markdown",
   "metadata": {},
   "source": [
    "# Test de mes résultats\n",
    "\n",
    "SANS DES DONNÉES POUR VERIFICATIONS. PAS DE DATA TEST.\n",
    "\n",
    "Le but est de faire une boucle sur une période en utilisant les valeurs obtenus à l'itérations précédentes\n",
    "\n",
    "Creation de liste de planification de l'arrosage pour le test"
   ]
  },
  {
   "cell_type": "markdown",
   "metadata": {},
   "source": [
    "\n",
    "\n",
    "## Test avec data Test\n",
    "\n",
    "Création d'une data frame pour effectuer les tests.\n",
    "\n",
    "Voici la query effectuer pour obtenir les données.\n",
    "\n",
    "SELECT mean(\"moisture-percent\") AS \"mean_moisture-percent\" ,  mean(\"temperature\") AS \"mean_temperature\"\n",
    "\n",
    "FROM \"demeter\".\"autogen\".\"chirp-left\" \n",
    "\n",
    "WHERE time > now() - 700h AND time < now() -400h\n",
    "\n",
    "GROUP BY time(30m)\n",
    "\n",
    "Pour le fichier Data30AprilTo8Mai.csv voici la query effectuer : \n",
    "\n",
    "SELECT mean(\"moisture-percent\") AS \"mean_moisture-percent\" FROM \"demeter\".\"autogen\".\"chirp-left\" WHERE time > now() - 200h GROUP BY time(30m) FILL(null)"
   ]
  },
  {
   "cell_type": "code",
   "execution_count": 14,
   "metadata": {},
   "outputs": [],
   "source": [
    "#dfTest = pd.read_csv('DataTest.csv')\n",
    "dfTest = pd.read_csv('Data30AprilTo8Mai.csv')\n",
    "\n",
    "#initdatatest = 31\n",
    "initdatatest = 17\n",
    "\n",
    "dfTest = t.ajoutData(dfTest)"
   ]
  },
  {
   "cell_type": "code",
   "execution_count": 15,
   "metadata": {},
   "outputs": [],
   "source": [
    "import datetime\n",
    "\n",
    "dfTest = t.arrosageHist(dfTest,1)\n",
    "    \n",
    "#Eliminate NaN value\n",
    "dfTest = t.eliminateNaNValue(dfTest,initdatatest)\n",
    "\n",
    "#Delete the data that are not inside a loop of one day\n",
    "dfTest.drop(dfTest.index[range(0,initdatatest)],axis = 0,inplace = True)\n",
    "nligneTest = dfTest.shape[0]\n"
   ]
  },
  {
   "cell_type": "markdown",
   "metadata": {},
   "source": [
    "## Test avec les donnes SANS le temps"
   ]
  },
  {
   "cell_type": "code",
   "execution_count": 16,
   "metadata": {},
   "outputs": [
    {
     "name": "stdout",
     "output_type": "stream",
     "text": [
      "Moyenne d'erreur :  -3.46953005488\n"
     ]
    }
   ],
   "source": [
    "init = 0+48*0\n",
    "dfTest['resultSansT'] = dfTest.index\n",
    "position = dfTest.shape[1]-1\n",
    "\n",
    "StartHumidity = dfTest.iloc[init,1]\n",
    "TestSize = nligneTest\n",
    "result = np.zeros(TestSize)\n",
    "for i in range(0,TestSize):\n",
    "    dfTest.iloc[int(i+init),position] = StartHumidity\n",
    "\n",
    "    if i%48 == 0:\n",
    "        StartHumidity = dfTest.iloc[init+i,1]\n",
    "    result[i] = StartHumidity + reg.predict([[StartHumidity,dfTest.iloc[init+i,2],dfTest.iloc[init+i,5]]])[0]\n",
    "    StartHumidity = result[i]\n",
    "    \n",
    "\n",
    "#print(dfTest.iloc[range(0+init+1,TestSize+init+1),1])\n",
    "ErrSansTemps = np.mean(dfTest.iloc[:,1].values-dfTest.iloc[:,position].values)\n",
    "print(\"Moyenne d'erreur : \",ErrSansTemps)\n"
   ]
  },
  {
   "cell_type": "markdown",
   "metadata": {},
   "source": [
    "## Test avec les donnes AVEC le temps"
   ]
  },
  {
   "cell_type": "code",
   "execution_count": 17,
   "metadata": {},
   "outputs": [
    {
     "name": "stdout",
     "output_type": "stream",
     "text": [
      "Moyenne d'erreur :  -2.9166448874\n"
     ]
    }
   ],
   "source": [
    "init = 0+48*0\n",
    "dfTest['resultAvecT'] = dfTest.index\n",
    "position = dfTest.shape[1]-1\n",
    "\n",
    "StartHumidity = dfTest.iloc[init,1]\n",
    "\n",
    "TestSize = nligneTest\n",
    "result2 = np.zeros(TestSize)\n",
    "for i in range(0,TestSize):\n",
    "    dfTest.iloc[int(i+init),position] = StartHumidity\n",
    "\n",
    "    if i%48 == 0:\n",
    "        StartHumidity = dfTest.iloc[init+i,1]\n",
    "    result2[i] = StartHumidity + reg2.predict([[StartHumidity,dfTest.iloc[init+i,2],dfTest.iloc[init+i,5],dfTest.iloc[init+i,6]]])[0]\n",
    "    StartHumidity = result2[i]\n",
    "\n",
    "#print(result2)\n",
    "#print(dfTest.iloc[range(0+init+1,TestSize+init+1),1])\n",
    "ErrTemps = np.mean(dfTest.iloc[:,1].values-dfTest.iloc[:,position].values)\n",
    "print(\"Moyenne d'erreur : \",ErrTemps)\n"
   ]
  },
  {
   "cell_type": "code",
   "execution_count": 18,
   "metadata": {},
   "outputs": [
    {
     "data": {
      "text/plain": [
       "date                     5/1/2019 11:30:00.000000000 AM\n",
       "mean_moisture-percent                            21.915\n",
       "mean_temperature                                  24.28\n",
       "moistureAdd                                        8.29\n",
       "temperatureAdd                                   -0.615\n",
       "Arrosage                                             40\n",
       "TAfterArrosage                                        0\n",
       "ArrosageHist                                         40\n",
       "resultSansT                                     21.9893\n",
       "resultAvecT                                     23.2135\n",
       "Name: 65, dtype: object"
      ]
     },
     "execution_count": 18,
     "metadata": {},
     "output_type": "execute_result"
    }
   ],
   "source": [
    "dfTest.iloc[48]"
   ]
  },
  {
   "cell_type": "markdown",
   "metadata": {},
   "source": [
    "# Partage de la Data frame\n",
    "\n",
    "Partage de la data frame en deux. \n",
    "\n",
    "Une partie qui contient que les moments où on arrose. On peut selectionner ceci grace à loc et à df['TAfterArrosage'] == 0. Quand on arrose, le temps après arrosage est de 0.\n",
    "\n",
    "L'autre partie contient les moments où on n'arrose pas. C'est-à-dire les momments où l'eau s'évapore."
   ]
  },
  {
   "cell_type": "code",
   "execution_count": 19,
   "metadata": {},
   "outputs": [],
   "source": [
    "dfArrosage = df.loc[df['TAfterArrosage'] == 0]\n",
    "tmp = df.loc[df['TAfterArrosage'] > 0]\n",
    "dfStabilisation = df.loc[df['TAfterArrosage'] > 450]\n",
    "dfEvaporation = tmp.loc[df['TAfterArrosage'] <= 450]"
   ]
  },
  {
   "cell_type": "code",
   "execution_count": 20,
   "metadata": {},
   "outputs": [
    {
     "data": {
      "text/plain": [
       "5.4278470080156902"
      ]
     },
     "execution_count": 20,
     "metadata": {},
     "output_type": "execute_result"
    }
   ],
   "source": [
    "regLinearAro = linear_model.LinearRegression()\n",
    "regLinearAro.fit(dfArrosage[['mean_moisture-percent','Arrosage']],dfArrosage.moistureAdd)\n",
    "\n",
    "regLinearAro.coef_\n",
    "regLinearAro.intercept_"
   ]
  },
  {
   "cell_type": "code",
   "execution_count": 21,
   "metadata": {},
   "outputs": [
    {
     "data": {
      "text/plain": [
       "array([ -1.04419747e-02,   2.06084293e-02,   3.54597845e-03,\n",
       "        -4.51813793e-05])"
      ]
     },
     "execution_count": 21,
     "metadata": {},
     "output_type": "execute_result"
    }
   ],
   "source": [
    "# Pour faire le régression linear sur le moment d'arrosage\n",
    "\n",
    "regLinearEva = linear_model.LinearRegression()\n",
    "regLinearEva.fit(dfEvaporation[['mean_moisture-percent','mean_temperature','TAfterArrosage','ArrosageHist']],dfEvaporation.moistureAdd)\n",
    "\n",
    "regLinearEva.intercept_\n",
    "regLinearEva.coef_"
   ]
  },
  {
   "cell_type": "code",
   "execution_count": 22,
   "metadata": {},
   "outputs": [
    {
     "data": {
      "text/plain": [
       "array([ -2.81974262e-03,   8.93414074e-03,   1.17505415e-06])"
      ]
     },
     "execution_count": 22,
     "metadata": {},
     "output_type": "execute_result"
    }
   ],
   "source": [
    "# Pour faire le régression linear sur le moment d'arrosage\n",
    "\n",
    "regLinearSta = linear_model.LinearRegression()\n",
    "regLinearSta.fit(dfStabilisation[['mean_moisture-percent','mean_temperature','TAfterArrosage']],dfStabilisation.moistureAdd)\n",
    "\n",
    "regLinearSta.intercept_\n",
    "regLinearSta.coef_"
   ]
  },
  {
   "cell_type": "code",
   "execution_count": 23,
   "metadata": {},
   "outputs": [],
   "source": [
    "#Pour tester sur la base de données de training\n",
    "init = 0\n",
    "base = dfTest "
   ]
  },
  {
   "cell_type": "code",
   "execution_count": 24,
   "metadata": {},
   "outputs": [
    {
     "name": "stdout",
     "output_type": "stream",
     "text": [
      "Moyenne Erreur d'Arrosage :  -1.07608157757\n",
      "Moyenne d'erreur evaporation :  -0.00467758348438\n",
      "Moyenne d'erreur :  -0.0180494314904\n"
     ]
    }
   ],
   "source": [
    "dfTest['resultSepare'] = dfTest.index\n",
    "StartHumidity = base.iloc[init,1]\n",
    "position = dfTest.shape[1]-1\n",
    "\n",
    "\n",
    "TestSize = nligneTest\n",
    "ErrAro = 0\n",
    "result = np.zeros(TestSize)\n",
    "ErrEva = 0\n",
    "nAro = 0\n",
    "\n",
    "for i in range(0,TestSize):\n",
    "    dfTest.iloc[int(i+init),position] = StartHumidity\n",
    "\n",
    "    if i%48 == 0:\n",
    "        nAro =+ 1\n",
    "        StartHumidity = dfTest.iloc[init+i,1]\n",
    "        result[i] = StartHumidity + regLinearAro.predict([[StartHumidity,base.iloc[init+i,5]]])[0]\n",
    "        ErrAro =+ dfTest.iloc[int(i),position] - base.iloc[i,1]\n",
    "    elif i%48 <= 15:\n",
    "        result[i] = StartHumidity + regLinearEva.predict([[StartHumidity,base.iloc[init+i,2],base.iloc[init+i,6],base.iloc[init+i,7]]])[0]\n",
    "        ErrEva =+ dfTest.iloc[int(i),position] - base.iloc[i,1]\n",
    "    else:\n",
    "        result[i] = StartHumidity + regLinearSta.predict([[StartHumidity,base.iloc[init+i,2],base.iloc[init+i,6]]])[0]\n",
    "        ErrEva =+ dfTest.iloc[int(i),position] - base.iloc[i,1]\n",
    "\n",
    "    StartHumidity = result[i]\n",
    "\n",
    "\n",
    "ErrAro = ErrAro/nAro\n",
    "ErrEva = ErrEva/(TestSize-nAro)\n",
    "\n",
    "print(\"Moyenne Erreur d'Arrosage : \", ErrAro)\n",
    "print(\"Moyenne d'erreur evaporation : \", ErrEva)\n",
    "ErrSepare = np.mean(dfTest.iloc[:,1].values-dfTest.iloc[:,position].values)\n",
    "print(\"Moyenne d'erreur : \",ErrSepare)"
   ]
  },
  {
   "cell_type": "markdown",
   "metadata": {},
   "source": [
    "# Affichage des résultats\n",
    "\n",
    "On Affiche les resultats"
   ]
  },
  {
   "cell_type": "code",
   "execution_count": 25,
   "metadata": {},
   "outputs": [
    {
     "name": "stdout",
     "output_type": "stream",
     "text": [
      "Sans le temps :  -3.46953005488\n",
      "Avec le temps :  -2.9166448874\n",
      "Avec Temps Séparé :  -0.0180494314904\n"
     ]
    }
   ],
   "source": [
    "print(\"Sans le temps : \", ErrSansTemps)\n",
    "print(\"Avec le temps : \", ErrTemps)\n",
    "\n",
    "#print(\"\\nDurant Arrosage : \",ErrAro)\n",
    "#print(\"Evaporation : \" , ErrEva)\n",
    "print(\"Avec Temps Séparé : \", ErrSepare)\n"
   ]
  },
  {
   "cell_type": "code",
   "execution_count": 26,
   "metadata": {},
   "outputs": [
    {
     "data": {
      "image/png": "[encoded data removed]",
      "text/plain": [
       "<matplotlib.figure.Figure at 0x7f2a7e4a8d30>"
      ]
     },
     "metadata": {
      "needs_background": "light"
     },
     "output_type": "display_data"
    }
   ],
   "source": [
    "# x-coordinates of left sides of bars  \n",
    "left = [1, 2, 3] \n",
    "  \n",
    "# heights of bars \n",
    "height = [ErrSansTemps, ErrTemps, ErrSepare]\n",
    "height = [abs(x) for x in height]\n",
    "\n",
    "  \n",
    "# labels for bars \n",
    "tick_label = ['Sans le temps', 'Avec Temps', 'Avec Temps Separe'] \n",
    "  \n",
    "# plotting a bar chart \n",
    "plt.bar(left, height, tick_label = tick_label, \n",
    "        width = 0.8, color = ['red', 'green','green']) \n",
    "\n",
    "# naming the x-axis \n",
    "plt.xlabel('Méthode de régression - axis') \n",
    "# naming the y-axis \n",
    "plt.ylabel('Erreur- axis') \n",
    "# plot title \n",
    "plt.title('Erreur suivant la methode') \n",
    "  \n",
    "# function to show the plot \n",
    "plt.show() "
   ]
  },
  {
   "cell_type": "markdown",
   "metadata": {},
   "source": [
    "# Graphic\n",
    "\n",
    "Creation des graphics de la courbe d'évolution de la température\n",
    "\n"
   ]
  },
  {
   "cell_type": "code",
   "execution_count": 27,
   "metadata": {},
   "outputs": [
    {
     "data": {
      "text/plain": [
       "Text(0,0.5,'moisture-percent')"
      ]
     },
     "execution_count": 27,
     "metadata": {},
     "output_type": "execute_result"
    },
    {
     "data": {
      "image/png": "[encoded data removed]",
      "text/plain": [
       "<matplotlib.figure.Figure at 0x7f2a7e4a8588>"
      ]
     },
     "metadata": {
      "needs_background": "light"
     },
     "output_type": "display_data"
    }
   ],
   "source": [
    "ax = dfTest.plot(x='date', y=['mean_moisture-percent','resultSansT','resultAvecT','resultSepare'],figsize=(11, 6),rot=30,grid=True, title=\"Forecast moisture porcent with several methods\")\n",
    "ax.set_ylabel(\"moisture-percent\")\n",
    "\n",
    "#dfTest.loc[dfTest['TAfterArrosage'] == 30]"
   ]
  },
  {
   "cell_type": "code",
   "execution_count": null,
   "metadata": {},
   "outputs": [],
   "source": []
  },
  {
   "cell_type": "code",
   "execution_count": 28,
   "metadata": {},
   "outputs": [
    {
     "data": {
      "text/plain": [
       "array([ -0.00000000e+00,  -0.00000000e+00,   1.73790721e-01,\n",
       "         9.36190733e-05])"
      ]
     },
     "execution_count": 28,
     "metadata": {},
     "output_type": "execute_result"
    }
   ],
   "source": [
    "reg3 = linear_model.Lasso(alpha=1.5)\n",
    "reg3.fit(df[['mean_moisture-percent','mean_temperature','Arrosage','TAfterArrosage']],df.moistureAdd)\n",
    "reg3.intercept_\n",
    "reg3.coef_\n"
   ]
  },
  {
   "cell_type": "code",
   "execution_count": 29,
   "metadata": {},
   "outputs": [
    {
     "name": "stdout",
     "output_type": "stream",
     "text": [
      "Moyenne d'erreur :  -3.12369286395\n"
     ]
    }
   ],
   "source": [
    "init = 0+48*0\n",
    "dfTest['resultAutre'] = dfTest.index\n",
    "position = dfTest.shape[1]-1\n",
    "\n",
    "StartHumidity = dfTest.iloc[init,1]\n",
    "\n",
    "TestSize = nligneTest\n",
    "result2 = np.zeros(TestSize)\n",
    "for i in range(0,TestSize):\n",
    "    dfTest.iloc[int(i+init),position] = StartHumidity\n",
    "\n",
    "    if i%48 == 0:\n",
    "        StartHumidity = dfTest.iloc[init+i,1]\n",
    "    result2[i] = StartHumidity + reg3.predict([[StartHumidity,dfTest.iloc[init+i,2],dfTest.iloc[init+i,5],dfTest.iloc[init+i,6]]])[0]\n",
    "    StartHumidity = result2[i]\n",
    "\n",
    "#print(result2)\n",
    "#print(dfTest.iloc[range(0+init+1,TestSize+init+1),1])\n",
    "ErrAutre = np.mean(dfTest.iloc[:,1].values-dfTest.iloc[:,position].values)\n",
    "print(\"Moyenne d'erreur : \",ErrAutre)"
   ]
  },
  {
   "cell_type": "code",
   "execution_count": 30,
   "metadata": {},
   "outputs": [
    {
     "data": {
      "image/png": "[encoded data removed]",
      "text/plain": [
       "<matplotlib.figure.Figure at 0x7f2a7e50b438>"
      ]
     },
     "metadata": {
      "needs_background": "light"
     },
     "output_type": "display_data"
    }
   ],
   "source": [
    "# x-coordinates of left sides of bars  \n",
    "left = [1, 2, 3,4] \n",
    "  \n",
    "# heights of bars \n",
    "height = [ErrSansTemps, ErrTemps, ErrSepare,ErrAutre]\n",
    "height = [abs(x) for x in height]\n",
    "  \n",
    "# labels for bars \n",
    "tick_label = ['Sans le temps', 'Avec Temps', 'Avec T Separe','Lasso a=1.5'] \n",
    "  \n",
    "# plotting a bar chart \n",
    "plt.bar(left, height, tick_label = tick_label, \n",
    "        width = 0.8, color = ['red', 'green','green','blue']) \n",
    "  \n",
    "# naming the x-axis \n",
    "plt.xlabel('Méthode de régression') \n",
    "# naming the y-axis \n",
    "plt.ylabel('Erreur en valeur absolu') \n",
    "# plot title \n",
    "plt.title('Erreur suivant la methode') \n",
    "  \n",
    "# function to show the plot \n",
    "plt.show() "
   ]
  },
  {
   "cell_type": "code",
   "execution_count": 31,
   "metadata": {},
   "outputs": [
    {
     "data": {
      "text/plain": [
       "Text(0,0.5,'moisture-percent')"
      ]
     },
     "execution_count": 31,
     "metadata": {},
     "output_type": "execute_result"
    },
    {
     "data": {
      "image/png": "[encoded data removed]",
      "text/plain": [
       "<matplotlib.figure.Figure at 0x7f2a7e1ea898>"
      ]
     },
     "metadata": {
      "needs_background": "light"
     },
     "output_type": "display_data"
    }
   ],
   "source": [
    "from pylab import *\n",
    "ax = dfTest.plot(x='date', y=['mean_moisture-percent','resultSepare','resultAutre'],figsize=(10, 6),rot=30,grid=True, title=\"Forecast moisture porcent with several methods\")\n",
    "ax.set_ylabel(\"moisture-percent\")\n"
   ]
  },
  {
   "cell_type": "code",
   "execution_count": 32,
   "metadata": {},
   "outputs": [
    {
     "data": {
      "text/plain": [
       "Text(0,0.5,'moisture-percent')"
      ]
     },
     "execution_count": 32,
     "metadata": {},
     "output_type": "execute_result"
    },
    {
     "data": {
      "image/png": "[encoded data removed]",
      "text/plain": [
       "<matplotlib.figure.Figure at 0x7f2a7e47a5f8>"
      ]
     },
     "metadata": {
      "needs_background": "light"
     },
     "output_type": "display_data"
    }
   ],
   "source": [
    "dfGraph = dfTest.iloc[range(44+48*4,96+48*4),:]\n",
    "ax = dfGraph.plot(x='date', y=['mean_moisture-percent'],figsize=(10, 6),rot=30,grid=True, title=\"Moisture-percent evolution in a day\")\n",
    "ax.set_ylabel(\"moisture-percent\")\n",
    "\n"
   ]
  },
  {
   "cell_type": "code",
   "execution_count": 33,
   "metadata": {},
   "outputs": [
    {
     "name": "stdout",
     "output_type": "stream",
     "text": [
      "Sans le temps :  -3.46953005488\n",
      "Avec le temps :  -2.9166448874\n",
      "Avec Temps Séparé :  -0.0180494314904\n",
      "Avec Lasso a = 1.5 :  -3.12369286395\n"
     ]
    }
   ],
   "source": [
    "print(\"Sans le temps : \", ErrSansTemps)\n",
    "print(\"Avec le temps : \", ErrTemps)\n",
    "\n",
    "#print(\"\\nDurant Arrosage : \",ErrAro)\n",
    "#print(\"Evaporation : \" , ErrEva)\n",
    "print(\"Avec Temps Séparé : \", ErrSepare)\n",
    "print(\"Avec Lasso a = 1.5 : \", ErrAutre)"
   ]
  },
  {
   "cell_type": "code",
   "execution_count": null,
   "metadata": {},
   "outputs": [],
   "source": []
  },
  {
   "cell_type": "markdown",
   "metadata": {},
   "source": [
    "# Erreur après 24heures\n",
    "\n",
    "L'erreur ci-dessous représente l'erreur à la dernière itération."
   ]
  },
  {
   "cell_type": "code",
   "execution_count": 34,
   "metadata": {},
   "outputs": [
    {
     "name": "stdout",
     "output_type": "stream",
     "text": [
      "Sans le temps :  -0.0916737497714\n",
      "Avec le temps :  0.870007936536\n",
      "Avec Temps Séparé :  -0.762684256374\n",
      "Avec Lasso a = 1.5 :  2.37590740033\n"
     ]
    }
   ],
   "source": [
    "dfEnd = dfTest.loc[dfTest['TAfterArrosage'] == 0]\n",
    "EndSans = np.mean(dfEnd.iloc[:,8]-dfEnd.iloc[:,1])\n",
    "EndAvec = np.mean(dfEnd.iloc[:,9]-dfEnd.iloc[:,1])\n",
    "EndSepare = np.mean(dfEnd.iloc[:,10]-dfEnd.iloc[:,1])\n",
    "EndAutre = np.mean(dfEnd.iloc[:,11]-dfEnd.iloc[:,1])\n",
    "\n",
    "print(\"Sans le temps : \", EndSans)\n",
    "print(\"Avec le temps : \", EndAvec)\n",
    "print(\"Avec Temps Séparé : \", EndSepare)\n",
    "print(\"Avec Lasso a = 1.5 : \", EndAutre)"
   ]
  },
  {
   "cell_type": "code",
   "execution_count": 35,
   "metadata": {},
   "outputs": [
    {
     "data": {
      "text/plain": [
       "0.74272914889584452"
      ]
     },
     "execution_count": 35,
     "metadata": {},
     "output_type": "execute_result"
    }
   ],
   "source": [
    "regtest = linear_model.LinearRegression()\n",
    "regtest.fit(df[['mean_moisture-percent','mean_temperature','Arrosage']],df.moistureAdd)\n",
    "\n",
    "regtest.coef_\n",
    "regtest.intercept_"
   ]
  },
  {
   "cell_type": "code",
   "execution_count": 36,
   "metadata": {},
   "outputs": [],
   "source": [
    "    dfPure = df.loc[df['TAfterArrosage'] <= 30 ]"
   ]
  },
  {
   "cell_type": "code",
   "execution_count": 37,
   "metadata": {},
   "outputs": [
    {
     "data": {
      "text/html": [
       "<div>\n",
       "<style scoped>\n",
       "    .dataframe tbody tr th:only-of-type {\n",
       "        vertical-align: middle;\n",
       "    }\n",
       "\n",
       "    .dataframe tbody tr th {\n",
       "        vertical-align: top;\n",
       "    }\n",
       "\n",
       "    .dataframe thead th {\n",
       "        text-align: right;\n",
       "    }\n",
       "</style>\n",
       "<table border=\"1\" class=\"dataframe\">\n",
       "  <thead>\n",
       "    <tr style=\"text-align: right;\">\n",
       "      <th></th>\n",
       "      <th>date</th>\n",
       "      <th>mean_moisture-percent</th>\n",
       "      <th>mean_temperature</th>\n",
       "      <th>moistureAdd</th>\n",
       "      <th>temperatureAdd</th>\n",
       "      <th>Arrosage</th>\n",
       "      <th>TAfterArrosage</th>\n",
       "      <th>ArrosageHist</th>\n",
       "    </tr>\n",
       "  </thead>\n",
       "  <tbody>\n",
       "    <tr>\n",
       "      <th>37</th>\n",
       "      <td>3/8/2019 10:30:00.000000000 AM</td>\n",
       "      <td>31.968333</td>\n",
       "      <td>25.800000</td>\n",
       "      <td>5.885000</td>\n",
       "      <td>0.316667</td>\n",
       "      <td>10</td>\n",
       "      <td>0</td>\n",
       "      <td>10</td>\n",
       "    </tr>\n",
       "    <tr>\n",
       "      <th>38</th>\n",
       "      <td>3/8/2019 11:00:00.000000000 AM</td>\n",
       "      <td>37.853333</td>\n",
       "      <td>26.116667</td>\n",
       "      <td>-2.026667</td>\n",
       "      <td>1.041667</td>\n",
       "      <td>0</td>\n",
       "      <td>30</td>\n",
       "      <td>10</td>\n",
       "    </tr>\n",
       "    <tr>\n",
       "      <th>85</th>\n",
       "      <td>3/9/2019 10:30:00.000000000 AM</td>\n",
       "      <td>31.540000</td>\n",
       "      <td>25.706667</td>\n",
       "      <td>5.731667</td>\n",
       "      <td>-0.018333</td>\n",
       "      <td>10</td>\n",
       "      <td>0</td>\n",
       "      <td>10</td>\n",
       "    </tr>\n",
       "    <tr>\n",
       "      <th>86</th>\n",
       "      <td>3/9/2019 11:00:00.000000000 AM</td>\n",
       "      <td>37.271667</td>\n",
       "      <td>25.688333</td>\n",
       "      <td>-1.688333</td>\n",
       "      <td>0.161667</td>\n",
       "      <td>0</td>\n",
       "      <td>30</td>\n",
       "      <td>10</td>\n",
       "    </tr>\n",
       "    <tr>\n",
       "      <th>133</th>\n",
       "      <td>3/10/2019 10:30:00.000000000 AM</td>\n",
       "      <td>31.476667</td>\n",
       "      <td>24.918333</td>\n",
       "      <td>5.533333</td>\n",
       "      <td>0.161667</td>\n",
       "      <td>10</td>\n",
       "      <td>0</td>\n",
       "      <td>10</td>\n",
       "    </tr>\n",
       "    <tr>\n",
       "      <th>134</th>\n",
       "      <td>3/10/2019 11:00:00.000000000 AM</td>\n",
       "      <td>37.010000</td>\n",
       "      <td>25.080000</td>\n",
       "      <td>-1.550000</td>\n",
       "      <td>0.186667</td>\n",
       "      <td>0</td>\n",
       "      <td>30</td>\n",
       "      <td>10</td>\n",
       "    </tr>\n",
       "    <tr>\n",
       "      <th>181</th>\n",
       "      <td>3/11/2019 10:30:00.000000000 AM</td>\n",
       "      <td>30.920000</td>\n",
       "      <td>24.921667</td>\n",
       "      <td>8.085000</td>\n",
       "      <td>0.096667</td>\n",
       "      <td>10</td>\n",
       "      <td>0</td>\n",
       "      <td>10</td>\n",
       "    </tr>\n",
       "    <tr>\n",
       "      <th>182</th>\n",
       "      <td>3/11/2019 11:00:00.000000000 AM</td>\n",
       "      <td>39.005000</td>\n",
       "      <td>25.018333</td>\n",
       "      <td>-2.571667</td>\n",
       "      <td>0.483333</td>\n",
       "      <td>0</td>\n",
       "      <td>30</td>\n",
       "      <td>10</td>\n",
       "    </tr>\n",
       "    <tr>\n",
       "      <th>229</th>\n",
       "      <td>3/12/2019 10:30:00.000000000 AM</td>\n",
       "      <td>28.846667</td>\n",
       "      <td>25.735000</td>\n",
       "      <td>8.016667</td>\n",
       "      <td>0.035000</td>\n",
       "      <td>10</td>\n",
       "      <td>0</td>\n",
       "      <td>10</td>\n",
       "    </tr>\n",
       "    <tr>\n",
       "      <th>230</th>\n",
       "      <td>3/12/2019 11:00:00.000000000 AM</td>\n",
       "      <td>36.863333</td>\n",
       "      <td>25.770000</td>\n",
       "      <td>-2.993333</td>\n",
       "      <td>0.515000</td>\n",
       "      <td>0</td>\n",
       "      <td>30</td>\n",
       "      <td>10</td>\n",
       "    </tr>\n",
       "    <tr>\n",
       "      <th>277</th>\n",
       "      <td>3/13/2019 10:30:00.000000000 AM</td>\n",
       "      <td>26.445000</td>\n",
       "      <td>21.938333</td>\n",
       "      <td>9.481667</td>\n",
       "      <td>3.306667</td>\n",
       "      <td>10</td>\n",
       "      <td>0</td>\n",
       "      <td>10</td>\n",
       "    </tr>\n",
       "    <tr>\n",
       "      <th>278</th>\n",
       "      <td>3/13/2019 11:00:00.000000000 AM</td>\n",
       "      <td>35.926667</td>\n",
       "      <td>25.245000</td>\n",
       "      <td>-3.033333</td>\n",
       "      <td>0.471667</td>\n",
       "      <td>0</td>\n",
       "      <td>30</td>\n",
       "      <td>10</td>\n",
       "    </tr>\n",
       "    <tr>\n",
       "      <th>325</th>\n",
       "      <td>3/14/2019 10:30:00.000000000 AM</td>\n",
       "      <td>23.970000</td>\n",
       "      <td>24.131667</td>\n",
       "      <td>12.088333</td>\n",
       "      <td>0.391667</td>\n",
       "      <td>10</td>\n",
       "      <td>0</td>\n",
       "      <td>10</td>\n",
       "    </tr>\n",
       "    <tr>\n",
       "      <th>326</th>\n",
       "      <td>3/14/2019 11:00:00.000000000 AM</td>\n",
       "      <td>36.058333</td>\n",
       "      <td>24.523333</td>\n",
       "      <td>-3.320000</td>\n",
       "      <td>0.585000</td>\n",
       "      <td>0</td>\n",
       "      <td>30</td>\n",
       "      <td>10</td>\n",
       "    </tr>\n",
       "    <tr>\n",
       "      <th>373</th>\n",
       "      <td>3/15/2019 10:30:00.000000000 AM</td>\n",
       "      <td>24.576667</td>\n",
       "      <td>25.705000</td>\n",
       "      <td>9.920000</td>\n",
       "      <td>0.143333</td>\n",
       "      <td>10</td>\n",
       "      <td>0</td>\n",
       "      <td>10</td>\n",
       "    </tr>\n",
       "    <tr>\n",
       "      <th>374</th>\n",
       "      <td>3/15/2019 11:00:00.000000000 AM</td>\n",
       "      <td>34.496667</td>\n",
       "      <td>25.848333</td>\n",
       "      <td>-2.338333</td>\n",
       "      <td>0.741667</td>\n",
       "      <td>0</td>\n",
       "      <td>30</td>\n",
       "      <td>10</td>\n",
       "    </tr>\n",
       "    <tr>\n",
       "      <th>421</th>\n",
       "      <td>3/16/2019 10:30:00.000000000 AM</td>\n",
       "      <td>24.570000</td>\n",
       "      <td>25.576667</td>\n",
       "      <td>10.123333</td>\n",
       "      <td>0.198333</td>\n",
       "      <td>10</td>\n",
       "      <td>0</td>\n",
       "      <td>10</td>\n",
       "    </tr>\n",
       "    <tr>\n",
       "      <th>422</th>\n",
       "      <td>3/16/2019 11:00:00.000000000 AM</td>\n",
       "      <td>34.693333</td>\n",
       "      <td>25.775000</td>\n",
       "      <td>-2.183333</td>\n",
       "      <td>0.560000</td>\n",
       "      <td>0</td>\n",
       "      <td>30</td>\n",
       "      <td>10</td>\n",
       "    </tr>\n",
       "    <tr>\n",
       "      <th>469</th>\n",
       "      <td>3/17/2019 10:30:00.000000000 AM</td>\n",
       "      <td>22.900000</td>\n",
       "      <td>26.516667</td>\n",
       "      <td>9.266667</td>\n",
       "      <td>0.371667</td>\n",
       "      <td>10</td>\n",
       "      <td>0</td>\n",
       "      <td>10</td>\n",
       "    </tr>\n",
       "    <tr>\n",
       "      <th>470</th>\n",
       "      <td>3/17/2019 11:00:00.000000000 AM</td>\n",
       "      <td>32.166667</td>\n",
       "      <td>26.888333</td>\n",
       "      <td>-3.220000</td>\n",
       "      <td>0.686667</td>\n",
       "      <td>0</td>\n",
       "      <td>30</td>\n",
       "      <td>10</td>\n",
       "    </tr>\n",
       "    <tr>\n",
       "      <th>517</th>\n",
       "      <td>3/18/2019 10:30:00.000000000 AM</td>\n",
       "      <td>22.120000</td>\n",
       "      <td>23.031667</td>\n",
       "      <td>9.453333</td>\n",
       "      <td>2.196667</td>\n",
       "      <td>10</td>\n",
       "      <td>0</td>\n",
       "      <td>10</td>\n",
       "    </tr>\n",
       "    <tr>\n",
       "      <th>518</th>\n",
       "      <td>3/18/2019 11:00:00.000000000 AM</td>\n",
       "      <td>31.573333</td>\n",
       "      <td>25.228333</td>\n",
       "      <td>-3.565000</td>\n",
       "      <td>0.491667</td>\n",
       "      <td>0</td>\n",
       "      <td>30</td>\n",
       "      <td>10</td>\n",
       "    </tr>\n",
       "    <tr>\n",
       "      <th>565</th>\n",
       "      <td>3/19/2019 10:30:00.000000000 AM</td>\n",
       "      <td>21.196667</td>\n",
       "      <td>25.305000</td>\n",
       "      <td>8.291667</td>\n",
       "      <td>0.248333</td>\n",
       "      <td>10</td>\n",
       "      <td>0</td>\n",
       "      <td>10</td>\n",
       "    </tr>\n",
       "    <tr>\n",
       "      <th>566</th>\n",
       "      <td>3/19/2019 11:00:00.000000000 AM</td>\n",
       "      <td>29.488333</td>\n",
       "      <td>25.553333</td>\n",
       "      <td>-2.696667</td>\n",
       "      <td>0.396667</td>\n",
       "      <td>0</td>\n",
       "      <td>30</td>\n",
       "      <td>10</td>\n",
       "    </tr>\n",
       "    <tr>\n",
       "      <th>613</th>\n",
       "      <td>3/20/2019 10:30:00.000000000 AM</td>\n",
       "      <td>19.453333</td>\n",
       "      <td>24.956667</td>\n",
       "      <td>5.530000</td>\n",
       "      <td>0.461667</td>\n",
       "      <td>10</td>\n",
       "      <td>0</td>\n",
       "      <td>10</td>\n",
       "    </tr>\n",
       "    <tr>\n",
       "      <th>614</th>\n",
       "      <td>3/20/2019 11:00:00.000000000 AM</td>\n",
       "      <td>24.983333</td>\n",
       "      <td>25.418333</td>\n",
       "      <td>-3.021667</td>\n",
       "      <td>0.410000</td>\n",
       "      <td>0</td>\n",
       "      <td>30</td>\n",
       "      <td>10</td>\n",
       "    </tr>\n",
       "    <tr>\n",
       "      <th>661</th>\n",
       "      <td>3/21/2019 10:30:00.000000000 AM</td>\n",
       "      <td>18.160000</td>\n",
       "      <td>24.975000</td>\n",
       "      <td>4.656667</td>\n",
       "      <td>0.323333</td>\n",
       "      <td>10</td>\n",
       "      <td>0</td>\n",
       "      <td>10</td>\n",
       "    </tr>\n",
       "    <tr>\n",
       "      <th>662</th>\n",
       "      <td>3/21/2019 11:00:00.000000000 AM</td>\n",
       "      <td>22.816667</td>\n",
       "      <td>25.298333</td>\n",
       "      <td>-2.036667</td>\n",
       "      <td>0.498333</td>\n",
       "      <td>0</td>\n",
       "      <td>30</td>\n",
       "      <td>10</td>\n",
       "    </tr>\n",
       "    <tr>\n",
       "      <th>664</th>\n",
       "      <td>3/21/2019 12:00:00.000000000 PM</td>\n",
       "      <td>19.633333</td>\n",
       "      <td>28.368333</td>\n",
       "      <td>3.938333</td>\n",
       "      <td>2.420000</td>\n",
       "      <td>10</td>\n",
       "      <td>0</td>\n",
       "      <td>10</td>\n",
       "    </tr>\n",
       "    <tr>\n",
       "      <th>665</th>\n",
       "      <td>3/21/2019 12:30:00.000000000 PM</td>\n",
       "      <td>23.571667</td>\n",
       "      <td>30.788333</td>\n",
       "      <td>1.941667</td>\n",
       "      <td>2.221667</td>\n",
       "      <td>0</td>\n",
       "      <td>30</td>\n",
       "      <td>10</td>\n",
       "    </tr>\n",
       "    <tr>\n",
       "      <th>...</th>\n",
       "      <td>...</td>\n",
       "      <td>...</td>\n",
       "      <td>...</td>\n",
       "      <td>...</td>\n",
       "      <td>...</td>\n",
       "      <td>...</td>\n",
       "      <td>...</td>\n",
       "      <td>...</td>\n",
       "    </tr>\n",
       "    <tr>\n",
       "      <th>1861</th>\n",
       "      <td>4/15/2019 11:30:00.000000000 AM</td>\n",
       "      <td>14.156667</td>\n",
       "      <td>26.058333</td>\n",
       "      <td>5.038333</td>\n",
       "      <td>-1.358333</td>\n",
       "      <td>20</td>\n",
       "      <td>0</td>\n",
       "      <td>20</td>\n",
       "    </tr>\n",
       "    <tr>\n",
       "      <th>1862</th>\n",
       "      <td>4/15/2019 12:00:00.000000000 PM</td>\n",
       "      <td>19.195000</td>\n",
       "      <td>24.700000</td>\n",
       "      <td>-1.405000</td>\n",
       "      <td>0.431667</td>\n",
       "      <td>0</td>\n",
       "      <td>30</td>\n",
       "      <td>20</td>\n",
       "    </tr>\n",
       "    <tr>\n",
       "      <th>1909</th>\n",
       "      <td>4/16/2019 11:30:00.000000000 AM</td>\n",
       "      <td>14.203333</td>\n",
       "      <td>25.808333</td>\n",
       "      <td>9.803333</td>\n",
       "      <td>-5.863333</td>\n",
       "      <td>20</td>\n",
       "      <td>0</td>\n",
       "      <td>20</td>\n",
       "    </tr>\n",
       "    <tr>\n",
       "      <th>1910</th>\n",
       "      <td>4/16/2019 12:00:00.000000000 PM</td>\n",
       "      <td>24.006667</td>\n",
       "      <td>19.945000</td>\n",
       "      <td>-4.416667</td>\n",
       "      <td>-1.396667</td>\n",
       "      <td>0</td>\n",
       "      <td>30</td>\n",
       "      <td>20</td>\n",
       "    </tr>\n",
       "    <tr>\n",
       "      <th>1918</th>\n",
       "      <td>4/16/2019 4:00:00.000000000 PM</td>\n",
       "      <td>16.633333</td>\n",
       "      <td>25.333333</td>\n",
       "      <td>3.826667</td>\n",
       "      <td>-0.701667</td>\n",
       "      <td>20</td>\n",
       "      <td>0</td>\n",
       "      <td>20</td>\n",
       "    </tr>\n",
       "    <tr>\n",
       "      <th>1919</th>\n",
       "      <td>4/16/2019 4:30:00.000000000 PM</td>\n",
       "      <td>20.460000</td>\n",
       "      <td>24.631667</td>\n",
       "      <td>1.490000</td>\n",
       "      <td>-0.438333</td>\n",
       "      <td>0</td>\n",
       "      <td>30</td>\n",
       "      <td>20</td>\n",
       "    </tr>\n",
       "    <tr>\n",
       "      <th>1957</th>\n",
       "      <td>4/17/2019 11:30:00.000000000 AM</td>\n",
       "      <td>17.423333</td>\n",
       "      <td>24.955000</td>\n",
       "      <td>6.770000</td>\n",
       "      <td>0.020000</td>\n",
       "      <td>20</td>\n",
       "      <td>0</td>\n",
       "      <td>20</td>\n",
       "    </tr>\n",
       "    <tr>\n",
       "      <th>1958</th>\n",
       "      <td>4/17/2019 12:00:00.000000000 PM</td>\n",
       "      <td>24.193333</td>\n",
       "      <td>24.975000</td>\n",
       "      <td>-3.083333</td>\n",
       "      <td>0.176667</td>\n",
       "      <td>0</td>\n",
       "      <td>30</td>\n",
       "      <td>20</td>\n",
       "    </tr>\n",
       "    <tr>\n",
       "      <th>2005</th>\n",
       "      <td>4/18/2019 11:30:00.000000000 AM</td>\n",
       "      <td>16.930000</td>\n",
       "      <td>25.848333</td>\n",
       "      <td>9.165000</td>\n",
       "      <td>-0.370000</td>\n",
       "      <td>40</td>\n",
       "      <td>0</td>\n",
       "      <td>40</td>\n",
       "    </tr>\n",
       "    <tr>\n",
       "      <th>2006</th>\n",
       "      <td>4/18/2019 12:00:00.000000000 PM</td>\n",
       "      <td>26.095000</td>\n",
       "      <td>25.478333</td>\n",
       "      <td>-3.808333</td>\n",
       "      <td>0.326667</td>\n",
       "      <td>0</td>\n",
       "      <td>30</td>\n",
       "      <td>40</td>\n",
       "    </tr>\n",
       "    <tr>\n",
       "      <th>2053</th>\n",
       "      <td>4/19/2019 11:30:00.000000000 AM</td>\n",
       "      <td>17.926667</td>\n",
       "      <td>25.826667</td>\n",
       "      <td>8.903333</td>\n",
       "      <td>0.041667</td>\n",
       "      <td>40</td>\n",
       "      <td>0</td>\n",
       "      <td>40</td>\n",
       "    </tr>\n",
       "    <tr>\n",
       "      <th>2054</th>\n",
       "      <td>4/19/2019 12:00:00.000000000 PM</td>\n",
       "      <td>26.830000</td>\n",
       "      <td>25.868333</td>\n",
       "      <td>-4.190000</td>\n",
       "      <td>0.416667</td>\n",
       "      <td>0</td>\n",
       "      <td>30</td>\n",
       "      <td>40</td>\n",
       "    </tr>\n",
       "    <tr>\n",
       "      <th>2101</th>\n",
       "      <td>4/20/2019 11:30:00.000000000 AM</td>\n",
       "      <td>18.653333</td>\n",
       "      <td>26.546667</td>\n",
       "      <td>8.633333</td>\n",
       "      <td>-0.050000</td>\n",
       "      <td>40</td>\n",
       "      <td>0</td>\n",
       "      <td>40</td>\n",
       "    </tr>\n",
       "    <tr>\n",
       "      <th>2102</th>\n",
       "      <td>4/20/2019 12:00:00.000000000 PM</td>\n",
       "      <td>27.286667</td>\n",
       "      <td>26.496667</td>\n",
       "      <td>-3.560000</td>\n",
       "      <td>0.240000</td>\n",
       "      <td>0</td>\n",
       "      <td>30</td>\n",
       "      <td>40</td>\n",
       "    </tr>\n",
       "    <tr>\n",
       "      <th>2149</th>\n",
       "      <td>4/21/2019 11:30:00.000000000 AM</td>\n",
       "      <td>18.673333</td>\n",
       "      <td>27.396667</td>\n",
       "      <td>8.660000</td>\n",
       "      <td>-0.256667</td>\n",
       "      <td>40</td>\n",
       "      <td>0</td>\n",
       "      <td>40</td>\n",
       "    </tr>\n",
       "    <tr>\n",
       "      <th>2150</th>\n",
       "      <td>4/21/2019 12:00:00.000000000 PM</td>\n",
       "      <td>27.333333</td>\n",
       "      <td>27.140000</td>\n",
       "      <td>-3.000000</td>\n",
       "      <td>0.076667</td>\n",
       "      <td>0</td>\n",
       "      <td>30</td>\n",
       "      <td>40</td>\n",
       "    </tr>\n",
       "    <tr>\n",
       "      <th>2197</th>\n",
       "      <td>4/22/2019 11:30:00.000000000 AM</td>\n",
       "      <td>19.643333</td>\n",
       "      <td>27.008333</td>\n",
       "      <td>8.963333</td>\n",
       "      <td>-0.163333</td>\n",
       "      <td>40</td>\n",
       "      <td>0</td>\n",
       "      <td>40</td>\n",
       "    </tr>\n",
       "    <tr>\n",
       "      <th>2198</th>\n",
       "      <td>4/22/2019 12:00:00.000000000 PM</td>\n",
       "      <td>28.606667</td>\n",
       "      <td>26.845000</td>\n",
       "      <td>-3.316667</td>\n",
       "      <td>0.018333</td>\n",
       "      <td>0</td>\n",
       "      <td>30</td>\n",
       "      <td>40</td>\n",
       "    </tr>\n",
       "    <tr>\n",
       "      <th>2245</th>\n",
       "      <td>4/23/2019 11:30:00.000000000 AM</td>\n",
       "      <td>20.136667</td>\n",
       "      <td>27.415000</td>\n",
       "      <td>7.848333</td>\n",
       "      <td>0.265000</td>\n",
       "      <td>40</td>\n",
       "      <td>0</td>\n",
       "      <td>40</td>\n",
       "    </tr>\n",
       "    <tr>\n",
       "      <th>2246</th>\n",
       "      <td>4/23/2019 12:00:00.000000000 PM</td>\n",
       "      <td>27.985000</td>\n",
       "      <td>27.680000</td>\n",
       "      <td>-2.898333</td>\n",
       "      <td>-0.086667</td>\n",
       "      <td>0</td>\n",
       "      <td>30</td>\n",
       "      <td>40</td>\n",
       "    </tr>\n",
       "    <tr>\n",
       "      <th>2389</th>\n",
       "      <td>4/26/2019 11:30:00.000000000 AM</td>\n",
       "      <td>19.430000</td>\n",
       "      <td>25.720000</td>\n",
       "      <td>8.076667</td>\n",
       "      <td>-0.546667</td>\n",
       "      <td>40</td>\n",
       "      <td>0</td>\n",
       "      <td>40</td>\n",
       "    </tr>\n",
       "    <tr>\n",
       "      <th>2390</th>\n",
       "      <td>4/26/2019 12:00:00.000000000 PM</td>\n",
       "      <td>27.506667</td>\n",
       "      <td>25.173333</td>\n",
       "      <td>-2.950000</td>\n",
       "      <td>0.328333</td>\n",
       "      <td>0</td>\n",
       "      <td>30</td>\n",
       "      <td>40</td>\n",
       "    </tr>\n",
       "    <tr>\n",
       "      <th>2437</th>\n",
       "      <td>4/27/2019 11:30:00.000000000 AM</td>\n",
       "      <td>20.263333</td>\n",
       "      <td>25.895000</td>\n",
       "      <td>9.106667</td>\n",
       "      <td>-0.066667</td>\n",
       "      <td>40</td>\n",
       "      <td>0</td>\n",
       "      <td>40</td>\n",
       "    </tr>\n",
       "    <tr>\n",
       "      <th>2438</th>\n",
       "      <td>4/27/2019 12:00:00.000000000 PM</td>\n",
       "      <td>29.370000</td>\n",
       "      <td>25.828333</td>\n",
       "      <td>-3.516667</td>\n",
       "      <td>0.113333</td>\n",
       "      <td>0</td>\n",
       "      <td>30</td>\n",
       "      <td>40</td>\n",
       "    </tr>\n",
       "    <tr>\n",
       "      <th>2485</th>\n",
       "      <td>4/28/2019 11:30:00.000000000 AM</td>\n",
       "      <td>21.536667</td>\n",
       "      <td>24.600000</td>\n",
       "      <td>8.300000</td>\n",
       "      <td>0.065000</td>\n",
       "      <td>40</td>\n",
       "      <td>0</td>\n",
       "      <td>40</td>\n",
       "    </tr>\n",
       "    <tr>\n",
       "      <th>2486</th>\n",
       "      <td>4/28/2019 12:00:00.000000000 PM</td>\n",
       "      <td>29.836667</td>\n",
       "      <td>24.665000</td>\n",
       "      <td>-3.600000</td>\n",
       "      <td>0.080000</td>\n",
       "      <td>0</td>\n",
       "      <td>30</td>\n",
       "      <td>40</td>\n",
       "    </tr>\n",
       "    <tr>\n",
       "      <th>2533</th>\n",
       "      <td>4/29/2019 11:30:00.000000000 AM</td>\n",
       "      <td>22.091667</td>\n",
       "      <td>23.705000</td>\n",
       "      <td>7.960000</td>\n",
       "      <td>-0.475000</td>\n",
       "      <td>40</td>\n",
       "      <td>0</td>\n",
       "      <td>40</td>\n",
       "    </tr>\n",
       "    <tr>\n",
       "      <th>2534</th>\n",
       "      <td>4/29/2019 12:00:00.000000000 PM</td>\n",
       "      <td>30.051667</td>\n",
       "      <td>23.230000</td>\n",
       "      <td>-3.671667</td>\n",
       "      <td>0.785000</td>\n",
       "      <td>0</td>\n",
       "      <td>30</td>\n",
       "      <td>40</td>\n",
       "    </tr>\n",
       "    <tr>\n",
       "      <th>2581</th>\n",
       "      <td>4/30/2019 11:30:00.000000000 AM</td>\n",
       "      <td>22.000000</td>\n",
       "      <td>23.400000</td>\n",
       "      <td>8.391667</td>\n",
       "      <td>-0.126667</td>\n",
       "      <td>40</td>\n",
       "      <td>0</td>\n",
       "      <td>40</td>\n",
       "    </tr>\n",
       "    <tr>\n",
       "      <th>2582</th>\n",
       "      <td>4/30/2019 12:00:00.000000000 PM</td>\n",
       "      <td>30.391667</td>\n",
       "      <td>23.273333</td>\n",
       "      <td>-3.751667</td>\n",
       "      <td>0.440000</td>\n",
       "      <td>0</td>\n",
       "      <td>30</td>\n",
       "      <td>40</td>\n",
       "    </tr>\n",
       "  </tbody>\n",
       "</table>\n",
       "<p>106 rows × 8 columns</p>\n",
       "</div>"
      ],
      "text/plain": [
       "                                 date  mean_moisture-percent  \\\n",
       "37     3/8/2019 10:30:00.000000000 AM              31.968333   \n",
       "38     3/8/2019 11:00:00.000000000 AM              37.853333   \n",
       "85     3/9/2019 10:30:00.000000000 AM              31.540000   \n",
       "86     3/9/2019 11:00:00.000000000 AM              37.271667   \n",
       "133   3/10/2019 10:30:00.000000000 AM              31.476667   \n",
       "134   3/10/2019 11:00:00.000000000 AM              37.010000   \n",
       "181   3/11/2019 10:30:00.000000000 AM              30.920000   \n",
       "182   3/11/2019 11:00:00.000000000 AM              39.005000   \n",
       "229   3/12/2019 10:30:00.000000000 AM              28.846667   \n",
       "230   3/12/2019 11:00:00.000000000 AM              36.863333   \n",
       "277   3/13/2019 10:30:00.000000000 AM              26.445000   \n",
       "278   3/13/2019 11:00:00.000000000 AM              35.926667   \n",
       "325   3/14/2019 10:30:00.000000000 AM              23.970000   \n",
       "326   3/14/2019 11:00:00.000000000 AM              36.058333   \n",
       "373   3/15/2019 10:30:00.000000000 AM              24.576667   \n",
       "374   3/15/2019 11:00:00.000000000 AM              34.496667   \n",
       "421   3/16/2019 10:30:00.000000000 AM              24.570000   \n",
       "422   3/16/2019 11:00:00.000000000 AM              34.693333   \n",
       "469   3/17/2019 10:30:00.000000000 AM              22.900000   \n",
       "470   3/17/2019 11:00:00.000000000 AM              32.166667   \n",
       "517   3/18/2019 10:30:00.000000000 AM              22.120000   \n",
       "518   3/18/2019 11:00:00.000000000 AM              31.573333   \n",
       "565   3/19/2019 10:30:00.000000000 AM              21.196667   \n",
       "566   3/19/2019 11:00:00.000000000 AM              29.488333   \n",
       "613   3/20/2019 10:30:00.000000000 AM              19.453333   \n",
       "614   3/20/2019 11:00:00.000000000 AM              24.983333   \n",
       "661   3/21/2019 10:30:00.000000000 AM              18.160000   \n",
       "662   3/21/2019 11:00:00.000000000 AM              22.816667   \n",
       "664   3/21/2019 12:00:00.000000000 PM              19.633333   \n",
       "665   3/21/2019 12:30:00.000000000 PM              23.571667   \n",
       "...                               ...                    ...   \n",
       "1861  4/15/2019 11:30:00.000000000 AM              14.156667   \n",
       "1862  4/15/2019 12:00:00.000000000 PM              19.195000   \n",
       "1909  4/16/2019 11:30:00.000000000 AM              14.203333   \n",
       "1910  4/16/2019 12:00:00.000000000 PM              24.006667   \n",
       "1918   4/16/2019 4:00:00.000000000 PM              16.633333   \n",
       "1919   4/16/2019 4:30:00.000000000 PM              20.460000   \n",
       "1957  4/17/2019 11:30:00.000000000 AM              17.423333   \n",
       "1958  4/17/2019 12:00:00.000000000 PM              24.193333   \n",
       "2005  4/18/2019 11:30:00.000000000 AM              16.930000   \n",
       "2006  4/18/2019 12:00:00.000000000 PM              26.095000   \n",
       "2053  4/19/2019 11:30:00.000000000 AM              17.926667   \n",
       "2054  4/19/2019 12:00:00.000000000 PM              26.830000   \n",
       "2101  4/20/2019 11:30:00.000000000 AM              18.653333   \n",
       "2102  4/20/2019 12:00:00.000000000 PM              27.286667   \n",
       "2149  4/21/2019 11:30:00.000000000 AM              18.673333   \n",
       "2150  4/21/2019 12:00:00.000000000 PM              27.333333   \n",
       "2197  4/22/2019 11:30:00.000000000 AM              19.643333   \n",
       "2198  4/22/2019 12:00:00.000000000 PM              28.606667   \n",
       "2245  4/23/2019 11:30:00.000000000 AM              20.136667   \n",
       "2246  4/23/2019 12:00:00.000000000 PM              27.985000   \n",
       "2389  4/26/2019 11:30:00.000000000 AM              19.430000   \n",
       "2390  4/26/2019 12:00:00.000000000 PM              27.506667   \n",
       "2437  4/27/2019 11:30:00.000000000 AM              20.263333   \n",
       "2438  4/27/2019 12:00:00.000000000 PM              29.370000   \n",
       "2485  4/28/2019 11:30:00.000000000 AM              21.536667   \n",
       "2486  4/28/2019 12:00:00.000000000 PM              29.836667   \n",
       "2533  4/29/2019 11:30:00.000000000 AM              22.091667   \n",
       "2534  4/29/2019 12:00:00.000000000 PM              30.051667   \n",
       "2581  4/30/2019 11:30:00.000000000 AM              22.000000   \n",
       "2582  4/30/2019 12:00:00.000000000 PM              30.391667   \n",
       "\n",
       "      mean_temperature  moistureAdd  temperatureAdd  Arrosage  TAfterArrosage  \\\n",
       "37           25.800000     5.885000        0.316667        10               0   \n",
       "38           26.116667    -2.026667        1.041667         0              30   \n",
       "85           25.706667     5.731667       -0.018333        10               0   \n",
       "86           25.688333    -1.688333        0.161667         0              30   \n",
       "133          24.918333     5.533333        0.161667        10               0   \n",
       "134          25.080000    -1.550000        0.186667         0              30   \n",
       "181          24.921667     8.085000        0.096667        10               0   \n",
       "182          25.018333    -2.571667        0.483333         0              30   \n",
       "229          25.735000     8.016667        0.035000        10               0   \n",
       "230          25.770000    -2.993333        0.515000         0              30   \n",
       "277          21.938333     9.481667        3.306667        10               0   \n",
       "278          25.245000    -3.033333        0.471667         0              30   \n",
       "325          24.131667    12.088333        0.391667        10               0   \n",
       "326          24.523333    -3.320000        0.585000         0              30   \n",
       "373          25.705000     9.920000        0.143333        10               0   \n",
       "374          25.848333    -2.338333        0.741667         0              30   \n",
       "421          25.576667    10.123333        0.198333        10               0   \n",
       "422          25.775000    -2.183333        0.560000         0              30   \n",
       "469          26.516667     9.266667        0.371667        10               0   \n",
       "470          26.888333    -3.220000        0.686667         0              30   \n",
       "517          23.031667     9.453333        2.196667        10               0   \n",
       "518          25.228333    -3.565000        0.491667         0              30   \n",
       "565          25.305000     8.291667        0.248333        10               0   \n",
       "566          25.553333    -2.696667        0.396667         0              30   \n",
       "613          24.956667     5.530000        0.461667        10               0   \n",
       "614          25.418333    -3.021667        0.410000         0              30   \n",
       "661          24.975000     4.656667        0.323333        10               0   \n",
       "662          25.298333    -2.036667        0.498333         0              30   \n",
       "664          28.368333     3.938333        2.420000        10               0   \n",
       "665          30.788333     1.941667        2.221667         0              30   \n",
       "...                ...          ...             ...       ...             ...   \n",
       "1861         26.058333     5.038333       -1.358333        20               0   \n",
       "1862         24.700000    -1.405000        0.431667         0              30   \n",
       "1909         25.808333     9.803333       -5.863333        20               0   \n",
       "1910         19.945000    -4.416667       -1.396667         0              30   \n",
       "1918         25.333333     3.826667       -0.701667        20               0   \n",
       "1919         24.631667     1.490000       -0.438333         0              30   \n",
       "1957         24.955000     6.770000        0.020000        20               0   \n",
       "1958         24.975000    -3.083333        0.176667         0              30   \n",
       "2005         25.848333     9.165000       -0.370000        40               0   \n",
       "2006         25.478333    -3.808333        0.326667         0              30   \n",
       "2053         25.826667     8.903333        0.041667        40               0   \n",
       "2054         25.868333    -4.190000        0.416667         0              30   \n",
       "2101         26.546667     8.633333       -0.050000        40               0   \n",
       "2102         26.496667    -3.560000        0.240000         0              30   \n",
       "2149         27.396667     8.660000       -0.256667        40               0   \n",
       "2150         27.140000    -3.000000        0.076667         0              30   \n",
       "2197         27.008333     8.963333       -0.163333        40               0   \n",
       "2198         26.845000    -3.316667        0.018333         0              30   \n",
       "2245         27.415000     7.848333        0.265000        40               0   \n",
       "2246         27.680000    -2.898333       -0.086667         0              30   \n",
       "2389         25.720000     8.076667       -0.546667        40               0   \n",
       "2390         25.173333    -2.950000        0.328333         0              30   \n",
       "2437         25.895000     9.106667       -0.066667        40               0   \n",
       "2438         25.828333    -3.516667        0.113333         0              30   \n",
       "2485         24.600000     8.300000        0.065000        40               0   \n",
       "2486         24.665000    -3.600000        0.080000         0              30   \n",
       "2533         23.705000     7.960000       -0.475000        40               0   \n",
       "2534         23.230000    -3.671667        0.785000         0              30   \n",
       "2581         23.400000     8.391667       -0.126667        40               0   \n",
       "2582         23.273333    -3.751667        0.440000         0              30   \n",
       "\n",
       "      ArrosageHist  \n",
       "37              10  \n",
       "38              10  \n",
       "85              10  \n",
       "86              10  \n",
       "133             10  \n",
       "134             10  \n",
       "181             10  \n",
       "182             10  \n",
       "229             10  \n",
       "230             10  \n",
       "277             10  \n",
       "278             10  \n",
       "325             10  \n",
       "326             10  \n",
       "373             10  \n",
       "374             10  \n",
       "421             10  \n",
       "422             10  \n",
       "469             10  \n",
       "470             10  \n",
       "517             10  \n",
       "518             10  \n",
       "565             10  \n",
       "566             10  \n",
       "613             10  \n",
       "614             10  \n",
       "661             10  \n",
       "662             10  \n",
       "664             10  \n",
       "665             10  \n",
       "...            ...  \n",
       "1861            20  \n",
       "1862            20  \n",
       "1909            20  \n",
       "1910            20  \n",
       "1918            20  \n",
       "1919            20  \n",
       "1957            20  \n",
       "1958            20  \n",
       "2005            40  \n",
       "2006            40  \n",
       "2053            40  \n",
       "2054            40  \n",
       "2101            40  \n",
       "2102            40  \n",
       "2149            40  \n",
       "2150            40  \n",
       "2197            40  \n",
       "2198            40  \n",
       "2245            40  \n",
       "2246            40  \n",
       "2389            40  \n",
       "2390            40  \n",
       "2437            40  \n",
       "2438            40  \n",
       "2485            40  \n",
       "2486            40  \n",
       "2533            40  \n",
       "2534            40  \n",
       "2581            40  \n",
       "2582            40  \n",
       "\n",
       "[106 rows x 8 columns]"
      ]
     },
     "execution_count": 37,
     "metadata": {},
     "output_type": "execute_result"
    }
   ],
   "source": [
    "dfPure"
   ]
  },
  {
   "cell_type": "code",
   "execution_count": null,
   "metadata": {},
   "outputs": [],
   "source": []
  },
  {
   "cell_type": "code",
   "execution_count": null,
   "metadata": {},
   "outputs": [],
   "source": []
  }
 ],
 "metadata": {
  "kernelspec": {
   "display_name": "Python 3",
   "language": "python",
   "name": "python3"
  },
  "language_info": {
   "codemirror_mode": {
    "name": "ipython",
    "version": 3
   },
   "file_extension": ".py",
   "mimetype": "text/x-python",
   "name": "python",
   "nbconvert_exporter": "python",
   "pygments_lexer": "ipython3",
   "version": "3.6.7"
  }
 },
 "nbformat": 4,
 "nbformat_minor": 2
}
