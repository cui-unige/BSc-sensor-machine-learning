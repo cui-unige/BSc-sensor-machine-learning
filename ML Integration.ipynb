{
 "cells": [
  {
   "cell_type": "markdown",
   "metadata": {},
   "source": [
    "# First implementation of Machine Learning Algorithm\n",
    "\n",
    "In this file, we are going to import data from a file .csv that we take from chornograf.\n",
    "We have to parse him and put into an array.\n",
    "Finally we will insert some machin Learning algorithm with the librairy sklearn.\n",
    "\n",
    "To do this, we will use some librairy as pandas, matplotlib, numpy, sklearn and some others.\n"
   ]
  },
  {
   "cell_type": "code",
   "execution_count": 4,
   "metadata": {},
   "outputs": [
    {
     "ename": "SyntaxError",
     "evalue": "invalid syntax (<ipython-input-4-e85c29dfa15f>, line 9)",
     "output_type": "error",
     "traceback": [
      "\u001b[0;36m  File \u001b[0;32m\"<ipython-input-4-e85c29dfa15f>\"\u001b[0;36m, line \u001b[0;32m9\u001b[0m\n\u001b[0;31m    name = 'Data2learn.csv'\u001b[0m\n\u001b[0m         ^\u001b[0m\n\u001b[0;31mSyntaxError\u001b[0m\u001b[0;31m:\u001b[0m invalid syntax\n"
     ]
    }
   ],
   "source": [
    "import csv\n",
    "import math\n",
    "#import matplotlib.pyplot as plt\n",
    "#import numpy as np\n",
    "\n",
    "#Data place \n",
    "tabl = [\n",
    "\n",
    "name = 'Data2learn.csv'\n",
    "nameTabl = []\n",
    "with open(name) as csv_file:\n",
    "    csv_reader = csv.reader(csv_file, delimiter=',')\n",
    "    ligne = 0\n",
    "    for row in csv_reader:\n",
    "        if ligne != 0:\n",
    "            i = 0\n",
    "            for el in row:\n",
    "                tabl[i].append(el)\n",
    "                i += 1\n",
    "        else:\n",
    "            for el in row:\n",
    "                tabl.append([])\n",
    "                nameTabl.append(el)\n",
    "                \n",
    "        ligne += 1\n",
    "        \n",
    "print(tabl)\n",
    "print(nameTabl)\n",
    "    "
   ]
  },
  {
   "cell_type": "code",
   "execution_count": null,
   "metadata": {},
   "outputs": [],
   "source": []
  }
 ],
 "metadata": {
  "kernelspec": {
   "display_name": "Python 3",
   "language": "python",
   "name": "python3"
  },
  "language_info": {
   "codemirror_mode": {
    "name": "ipython",
    "version": 2
   },
   "file_extension": ".py",
   "mimetype": "text/x-python",
   "name": "python",
   "nbconvert_exporter": "python",
   "pygments_lexer": "ipython2",
   "version": "2.7.15rc1"
  }
 },
 "nbformat": 4,
 "nbformat_minor": 2
}
