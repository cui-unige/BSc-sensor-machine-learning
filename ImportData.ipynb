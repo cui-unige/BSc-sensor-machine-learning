{
 "cells": [
  {
   "cell_type": "markdown",
   "metadata": {},
   "source": [
    "# Test d'utilisation de Jupyter et influxdb\n",
    "\n",
    "First I will try import a data base with influxdb."
   ]
  },
  {
   "cell_type": "code",
   "execution_count": 18,
   "metadata": {},
   "outputs": [
    {
     "ename": "ConnectionError",
     "evalue": "",
     "output_type": "error",
     "traceback": [
      "\u001b[0;31m---------------------------------------------------------------------------\u001b[0m",
      "\u001b[0;31mConnectionError\u001b[0m                           Traceback (most recent call last)",
      "\u001b[0;32m<ipython-input-18-f55a54a219ff>\u001b[0m in \u001b[0;36m<module>\u001b[0;34m\u001b[0m\n\u001b[1;32m      4\u001b[0m \u001b[0mclient\u001b[0m \u001b[0;34m=\u001b[0m \u001b[0mInfluxDBClient\u001b[0m\u001b[0;34m(\u001b[0m\u001b[0;34m'localhost'\u001b[0m\u001b[0;34m,\u001b[0m \u001b[0;36m8086\u001b[0m \u001b[0;34m,\u001b[0m \u001b[0;34m'root'\u001b[0m\u001b[0;34m,\u001b[0m \u001b[0;34m'root'\u001b[0m\u001b[0;34m,\u001b[0m \u001b[0;34m'example'\u001b[0m\u001b[0;34m)\u001b[0m\u001b[0;34m\u001b[0m\u001b[0;34m\u001b[0m\u001b[0m\n\u001b[1;32m      5\u001b[0m \u001b[0;34m\u001b[0m\u001b[0m\n\u001b[0;32m----> 6\u001b[0;31m \u001b[0mclient\u001b[0m\u001b[0;34m.\u001b[0m\u001b[0mcreate_database\u001b[0m\u001b[0;34m(\u001b[0m\u001b[0;34m'example'\u001b[0m\u001b[0;34m)\u001b[0m\u001b[0;34m\u001b[0m\u001b[0;34m\u001b[0m\u001b[0m\n\u001b[0m\u001b[1;32m      7\u001b[0m \u001b[0;34m\u001b[0m\u001b[0m\n\u001b[1;32m      8\u001b[0m json_body = [\n",
      "\u001b[0;32m/usr/lib/python3/dist-packages/influxdb/client.py\u001b[0m in \u001b[0;36mcreate_database\u001b[0;34m(self, dbname)\u001b[0m\n\u001b[1;32m    531\u001b[0m         \u001b[0;34m:\u001b[0m\u001b[0mtype\u001b[0m \u001b[0mdbname\u001b[0m\u001b[0;34m:\u001b[0m \u001b[0mstr\u001b[0m\u001b[0;34m\u001b[0m\u001b[0;34m\u001b[0m\u001b[0m\n\u001b[1;32m    532\u001b[0m         \"\"\"\n\u001b[0;32m--> 533\u001b[0;31m         \u001b[0mself\u001b[0m\u001b[0;34m.\u001b[0m\u001b[0mquery\u001b[0m\u001b[0;34m(\u001b[0m\u001b[0;34m\"CREATE DATABASE {0}\"\u001b[0m\u001b[0;34m.\u001b[0m\u001b[0mformat\u001b[0m\u001b[0;34m(\u001b[0m\u001b[0mquote_ident\u001b[0m\u001b[0;34m(\u001b[0m\u001b[0mdbname\u001b[0m\u001b[0;34m)\u001b[0m\u001b[0;34m)\u001b[0m\u001b[0;34m)\u001b[0m\u001b[0;34m\u001b[0m\u001b[0;34m\u001b[0m\u001b[0m\n\u001b[0m\u001b[1;32m    534\u001b[0m \u001b[0;34m\u001b[0m\u001b[0m\n\u001b[1;32m    535\u001b[0m     \u001b[0;32mdef\u001b[0m \u001b[0mdrop_database\u001b[0m\u001b[0;34m(\u001b[0m\u001b[0mself\u001b[0m\u001b[0;34m,\u001b[0m \u001b[0mdbname\u001b[0m\u001b[0;34m)\u001b[0m\u001b[0;34m:\u001b[0m\u001b[0;34m\u001b[0m\u001b[0;34m\u001b[0m\u001b[0m\n",
      "\u001b[0;32m/usr/lib/python3/dist-packages/influxdb/client.py\u001b[0m in \u001b[0;36mquery\u001b[0;34m(self, query, params, epoch, expected_response_code, database, raise_errors, chunked, chunk_size)\u001b[0m\n\u001b[1;32m    379\u001b[0m             \u001b[0mparams\u001b[0m\u001b[0;34m=\u001b[0m\u001b[0mparams\u001b[0m\u001b[0;34m,\u001b[0m\u001b[0;34m\u001b[0m\u001b[0;34m\u001b[0m\u001b[0m\n\u001b[1;32m    380\u001b[0m             \u001b[0mdata\u001b[0m\u001b[0;34m=\u001b[0m\u001b[0;32mNone\u001b[0m\u001b[0;34m,\u001b[0m\u001b[0;34m\u001b[0m\u001b[0;34m\u001b[0m\u001b[0m\n\u001b[0;32m--> 381\u001b[0;31m             \u001b[0mexpected_response_code\u001b[0m\u001b[0;34m=\u001b[0m\u001b[0mexpected_response_code\u001b[0m\u001b[0;34m\u001b[0m\u001b[0;34m\u001b[0m\u001b[0m\n\u001b[0m\u001b[1;32m    382\u001b[0m         )\n\u001b[1;32m    383\u001b[0m \u001b[0;34m\u001b[0m\u001b[0m\n",
      "\u001b[0;32m/usr/lib/python3/dist-packages/influxdb/client.py\u001b[0m in \u001b[0;36mrequest\u001b[0;34m(self, url, method, params, data, expected_response_code, headers)\u001b[0m\n\u001b[1;32m    254\u001b[0m \u001b[0;34m\u001b[0m\u001b[0m\n\u001b[1;32m    255\u001b[0m         \u001b[0;32melse\u001b[0m\u001b[0;34m:\u001b[0m\u001b[0;34m\u001b[0m\u001b[0;34m\u001b[0m\u001b[0m\n\u001b[0;32m--> 256\u001b[0;31m             \u001b[0;32mraise\u001b[0m \u001b[0mrequests\u001b[0m\u001b[0;34m.\u001b[0m\u001b[0mexceptions\u001b[0m\u001b[0;34m.\u001b[0m\u001b[0mConnectionError\u001b[0m\u001b[0;34m\u001b[0m\u001b[0;34m\u001b[0m\u001b[0m\n\u001b[0m\u001b[1;32m    257\u001b[0m \u001b[0;34m\u001b[0m\u001b[0m\n\u001b[1;32m    258\u001b[0m         \u001b[0;32mif\u001b[0m \u001b[0;36m500\u001b[0m \u001b[0;34m<=\u001b[0m \u001b[0mresponse\u001b[0m\u001b[0;34m.\u001b[0m\u001b[0mstatus_code\u001b[0m \u001b[0;34m<\u001b[0m \u001b[0;36m600\u001b[0m\u001b[0;34m:\u001b[0m\u001b[0;34m\u001b[0m\u001b[0;34m\u001b[0m\u001b[0m\n",
      "\u001b[0;31mConnectionError\u001b[0m: "
     ]
    }
   ],
   "source": [
    "from influxdb import InfluxDBClient\n",
    "\n",
    "\n",
    "client = InfluxDBClient('localhost', 8086 , 'root', 'root', 'example')\n",
    "\n",
    "client.create_database('example')\n",
    "\n",
    "json_body = [\n",
    "    {\n",
    "        \"measurement\": \"brushEvents\",\n",
    "        \"tags\": {\n",
    "            \"user\": \"Carol\",\n",
    "            \"brushId\": \"6c89f539-71c6-490d-a28d-6c5d84c0ee2f\"\n",
    "        },\n",
    "        \"time\": \"2018-03-28T8:01:00Z\",\n",
    "        \"fields\": {\n",
    "            \"duration\": 127\n",
    "        }\n",
    "    },\n",
    "    {\n",
    "        \"measurement\": \"brushEvents\",\n",
    "        \"tags\": {\n",
    "            \"user\": \"Carol\",\n",
    "            \"brushId\": \"6c89f539-71c6-490d-a28d-6c5d84c0ee2f\"\n",
    "        },\n",
    "        \"time\": \"2018-03-29T8:04:00Z\",\n",
    "        \"fields\": {\n",
    "            \"duration\": 132\n",
    "        }\n",
    "    },\n",
    "    {\n",
    "        \"measurement\": \"brushEvents\",\n",
    "        \"tags\": {\n",
    "            \"user\": \"Carol\",\n",
    "            \"brushId\": \"6c89f539-71c6-490d-a28d-6c5d84c0ee2f\"\n",
    "        },\n",
    "        \"time\": \"2018-03-30T8:02:00Z\",\n",
    "        \"fields\": {\n",
    "            \"duration\": 129\n",
    "        }\n",
    "    }\n",
    "]\n",
    "\n",
    "#client.write_points(json_body)\n",
    "\n",
    "#result = client.query('select value from cpu_load_short;')\n",
    "\n",
    "#print(\"Result: {0}\".format(result))\n",
    "\n",
    "print(\"FINISH OK\")"
   ]
  },
  {
   "cell_type": "markdown",
   "metadata": {},
   "source": [
    "# Afficher le résultat\n",
    "\n",
    "A l'aide d'une query et \n"
   ]
  },
  {
   "cell_type": "code",
   "execution_count": null,
   "metadata": {},
   "outputs": [],
   "source": [
    "client.query('SELECT \"duration\" FROM \"pyexample\".\"autogen\".\"brushEvents\" WHERE time > now() - 4d GROUP BY \"user\"')\n",
    "\n",
    "result.raw\n",
    "\n",
    "points = results.get_points(tags={'user':'Carol'})\n",
    "for point in points:\n",
    "    print(\"Time: %s, Duration: %i\" % (point['time'], point['duration']))"
   ]
  }
 ],
 "metadata": {
  "kernelspec": {
   "display_name": "Python 3",
   "language": "python",
   "name": "python3"
  },
  "language_info": {
   "codemirror_mode": {
    "name": "ipython",
    "version": 3
   },
   "file_extension": ".py",
   "mimetype": "text/x-python",
   "name": "python",
   "nbconvert_exporter": "python",
   "pygments_lexer": "ipython3",
   "version": "3.6.7"
  }
 },
 "nbformat": 4,
 "nbformat_minor": 2
}
